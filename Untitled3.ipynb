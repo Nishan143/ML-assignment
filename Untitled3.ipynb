{
  "nbformat": 4,
  "nbformat_minor": 0,
  "metadata": {
    "colab": {
      "provenance": []
    },
    "kernelspec": {
      "name": "python3",
      "display_name": "Python 3"
    },
    "language_info": {
      "name": "python"
    }
  },
  "cells": [
    {
      "cell_type": "code",
      "execution_count": null,
      "metadata": {
        "colab": {
          "base_uri": "https://localhost:8080/"
        },
        "id": "6lOC9pFlzf4e",
        "outputId": "c21e46b2-fa1a-4b33-8117-e6bfed0f082f"
      },
      "outputs": [
        {
          "output_type": "stream",
          "name": "stdout",
          "text": [
            "Name:- Aktaruzzaman , ID :- UG02-59-22-012 \n",
            "value : 5100.012\n",
            "Data Type : <class 'float'>\n",
            "Enter the 1st Number: 15\n",
            "Enter the 2nd Number: 5\n",
            "Sum : 20\n",
            "Subtraction: 10\n",
            "Multiplication: 75\n",
            "Division: 3.0\n",
            "Floor Division: 3\n",
            "power: 759375\n"
          ]
        }
      ],
      "source": [
        "#python-01\n",
        "#-01\n",
        "nishan = 'Name:- Aktaruzzaman , ID :- UG02-59-22-012 '\n",
        "print(nishan)\n",
        "#-02\n",
        "Integer_number = 5000\n",
        "flote_number = 100.012\n",
        "\n",
        "new_number = Integer_number + flote_number\n",
        "\n",
        "print(\"value :\" ,new_number)\n",
        "print(\"Data Type :\", type(new_number))\n",
        "\n",
        "#-03\n",
        "a = (input('Enter the 1st Number: '))\n",
        "b = (input('Enter the 2nd Number: '))\n",
        "\n",
        "print('Sum :', int(a)+int(b))\n",
        "print('Subtraction:', int(a) - int(b))\n",
        "print('Multiplication:', int(a) * int(b))\n",
        "print('Division:', int(a) / int(b))\n",
        "print('Floor Division:', int(a) // int(b))\n",
        "print('power:', int(a) ** int(b))\n"
      ]
    },
    {
      "cell_type": "code",
      "source": [
        "#python-02\n",
        "\n",
        "#-01\n",
        "number = int(input('Enter a number:'))\n",
        "\n",
        "if number > 0:\n",
        "   print('Positive Number')\n",
        "else:\n",
        "   print('Not a Positive Number ')\n",
        "\n",
        "\n",
        "#-02\n",
        "Number = int(input('Entar a Number'))\n",
        "\n",
        "if Number > 0:\n",
        "  print('Positive Number')\n",
        "elif Number < 0:\n",
        "    print('Negative Number')\n",
        "else:\n",
        "      print('Zero')\n"
      ],
      "metadata": {
        "colab": {
          "base_uri": "https://localhost:8080/"
        },
        "id": "F8zWe-quEsEA",
        "outputId": "b1f5b0d0-b645-4e6c-b904-1eff1e404abf"
      },
      "execution_count": null,
      "outputs": [
        {
          "output_type": "stream",
          "name": "stdout",
          "text": [
            "Enter a number:34\n",
            "Positive Number\n",
            "Entar a Number0\n",
            "Zero\n"
          ]
        }
      ]
    },
    {
      "cell_type": "code",
      "source": [
        "#python-03\n",
        "#-01\n",
        "language = 'python'\n",
        "\n",
        "for x in language:\n",
        "    print(x)\n",
        "\n",
        "#-02\n",
        "#interate from i = 0 to i = 10\n",
        "for i in range(10):\n",
        "    print(i)\n"
      ],
      "metadata": {
        "id": "oxuO11JiMLDo",
        "colab": {
          "base_uri": "https://localhost:8080/"
        },
        "outputId": "28289fc0-cc64-4a21-9daa-0410b64b4474"
      },
      "execution_count": null,
      "outputs": [
        {
          "output_type": "stream",
          "name": "stdout",
          "text": [
            "p\n",
            "y\n",
            "t\n",
            "h\n",
            "o\n",
            "n\n",
            "0\n",
            "1\n",
            "2\n",
            "3\n",
            "4\n",
            "5\n",
            "6\n",
            "7\n",
            "8\n",
            "9\n"
          ]
        }
      ]
    },
    {
      "cell_type": "code",
      "source": [
        "#-python-04\n",
        "\n",
        "#-01\n",
        "num1 = 5\n",
        "print(num1, 'is of type', type(num1))\n",
        "num2 = 5.25\n",
        "print(num2, 'is of type', type(num2))\n",
        "num3 = 5 + 8j\n",
        "print(num3, 'is of type', type(num3))"
      ],
      "metadata": {
        "id": "vivqjtuC8jjl",
        "colab": {
          "base_uri": "https://localhost:8080/"
        },
        "outputId": "5a908c9c-d21d-4f12-b887-78df3be5a91f"
      },
      "execution_count": 9,
      "outputs": [
        {
          "output_type": "stream",
          "name": "stdout",
          "text": [
            "5 is of type <class 'int'>\n",
            "5.25 is of type <class 'float'>\n",
            "(5+8j) is of type <class 'complex'>\n"
          ]
        }
      ]
    },
    {
      "cell_type": "code",
      "source": [
        "#-python-05\n",
        "\n",
        "#-01\n",
        "country_capitals = {\n",
        "    \"Germany\": \"Berlin\",\n",
        "    \"Italy\": \"Naples\",\n",
        "    \"England\": \"London\"\n",
        "}\n",
        "\n",
        "# Update Italy's capital\n",
        "country_capitals[\"Italy\"] = \"Rome\"\n",
        "\n",
        "# Print the updated dictionary\n",
        "print(country_capitals)\n"
      ],
      "metadata": {
        "colab": {
          "base_uri": "https://localhost:8080/"
        },
        "id": "VFjK0nFGPxvT",
        "outputId": "cfd7a59f-b3e4-47b5-fd15-3142bd5ec16d"
      },
      "execution_count": 11,
      "outputs": [
        {
          "output_type": "stream",
          "name": "stdout",
          "text": [
            "{'Germany': 'Berlin', 'Italy': 'Rome', 'England': 'London'}\n"
          ]
        }
      ]
    },
    {
      "cell_type": "code",
      "source": [
        "#-python-06\n",
        "\n",
        "#-01\n",
        "def generate_pascals_triangle(n):\n",
        "    triangle = []\n",
        "\n",
        "    for i in range(n):\n",
        "        row = [1]\n",
        "        if triangle:\n",
        "            last_row = triangle[-1]\n",
        "            for j in range(1, len(last_row)):\n",
        "\n",
        "                row.append(last_row[j - 1] + last_row[j])\n",
        "            row.append(1)\n",
        "        triangle.append(row)\n",
        "\n",
        "    return triangle\n",
        "rows = 6\n",
        "triangle = generate_pascals_triangle(rows)\n",
        "for row in triangle:\n",
        "    print(row)\n"
      ],
      "metadata": {
        "colab": {
          "base_uri": "https://localhost:8080/"
        },
        "id": "5M9hoXE6QVBJ",
        "outputId": "39577e9d-29ad-418f-aa85-2673b2959c22"
      },
      "execution_count": 14,
      "outputs": [
        {
          "output_type": "stream",
          "name": "stdout",
          "text": [
            "[1]\n",
            "[1, 1]\n",
            "[1, 2, 1]\n",
            "[1, 3, 3, 1]\n",
            "[1, 4, 6, 4, 1]\n",
            "[1, 5, 10, 10, 5, 1]\n"
          ]
        }
      ]
    },
    {
      "cell_type": "code",
      "source": [
        "def power(x, n):\n",
        "\n",
        "    if n == 0:\n",
        "        return 1\n",
        "\n",
        "    return x * power(x, n - 1)\n",
        "\n",
        "x = 2\n",
        "n = 3\n",
        "result = power(x, n)\n",
        "print(result)\n"
      ],
      "metadata": {
        "colab": {
          "base_uri": "https://localhost:8080/"
        },
        "id": "vRqyF8x1bHmH",
        "outputId": "92b8a0f1-8cf0-47a2-afb5-ab626d91b49c"
      },
      "execution_count": 16,
      "outputs": [
        {
          "output_type": "stream",
          "name": "stdout",
          "text": [
            "8\n"
          ]
        }
      ]
    },
    {
      "cell_type": "code",
      "source": [
        "def find_unique_elements(lst):\n",
        "    unique = []\n",
        "    for item in lst:\n",
        "        if lst.count(item) == 1:\n",
        "            unique.append(item)\n",
        "    return unique\n",
        "data = [1, 2, 2, 3, 4, 4, 5]\n",
        "result = find_unique_elements(data)\n",
        "print(result)\n"
      ],
      "metadata": {
        "colab": {
          "base_uri": "https://localhost:8080/"
        },
        "id": "T-syDOp-bre-",
        "outputId": "bd372b4f-95db-481c-f70b-89e961a8e71d"
      },
      "execution_count": 17,
      "outputs": [
        {
          "output_type": "stream",
          "name": "stdout",
          "text": [
            "[1, 3, 5]\n"
          ]
        }
      ]
    }
  ]
}